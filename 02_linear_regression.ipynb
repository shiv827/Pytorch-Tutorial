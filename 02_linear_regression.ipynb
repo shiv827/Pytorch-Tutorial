{
  "nbformat": 4,
  "nbformat_minor": 0,
  "metadata": {
    "colab": {
      "provenance": [],
      "authorship_tag": "ABX9TyOFhk1XDkuN7IEA6uy0X3/q",
      "include_colab_link": true
    },
    "kernelspec": {
      "name": "python3",
      "display_name": "Python 3"
    },
    "language_info": {
      "name": "python"
    }
  },
  "cells": [
    {
      "cell_type": "markdown",
      "metadata": {
        "id": "view-in-github",
        "colab_type": "text"
      },
      "source": [
        "<a href=\"https://colab.research.google.com/github/shiv827/Pytorch-Tutorial/blob/main/02_linear_regression.ipynb\" target=\"_parent\"><img src=\"https://colab.research.google.com/assets/colab-badge.svg\" alt=\"Open In Colab\"/></a>"
      ]
    },
    {
      "cell_type": "code",
      "execution_count": null,
      "metadata": {
        "id": "XVXUL1a516Cr"
      },
      "outputs": [],
      "source": [
        "import torch\n",
        "import numpy as np"
      ]
    },
    {
      "cell_type": "code",
      "source": [
        "# Inputs (temp, rainfall, humidity)\n",
        "\n",
        "inputs = np.array([[73, 67, 43],[91, 88, 64], [87, 134, 58], [102, 43, 37], \n",
        "                  [69, 96, 70]], dtype='float32')"
      ],
      "metadata": {
        "id": "R7LcAumj2Cqt"
      },
      "execution_count": null,
      "outputs": []
    },
    {
      "cell_type": "code",
      "source": [
        "inputs"
      ],
      "metadata": {
        "colab": {
          "base_uri": "https://localhost:8080/"
        },
        "id": "va9zbo_o2OII",
        "outputId": "0f080d07-0004-45d8-f88a-5da681292a2c"
      },
      "execution_count": null,
      "outputs": [
        {
          "output_type": "execute_result",
          "data": {
            "text/plain": [
              "array([[ 73.,  67.,  43.],\n",
              "       [ 91.,  88.,  64.],\n",
              "       [ 87., 134.,  58.],\n",
              "       [102.,  43.,  37.],\n",
              "       [ 69.,  96.,  70.]], dtype=float32)"
            ]
          },
          "metadata": {},
          "execution_count": 3
        }
      ]
    },
    {
      "cell_type": "code",
      "source": [
        "# Targets (yeild of apple, yeild of oranges)\n",
        "\n",
        "targets = np.array([[56, 70], [81, 101], [119, 133], [22, 37], [103, 119]]\n",
        "                  , dtype = 'float32')\n",
        "targets"
      ],
      "metadata": {
        "colab": {
          "base_uri": "https://localhost:8080/"
        },
        "id": "6L3HF6I92QCi",
        "outputId": "26ec3ba1-2f3a-4924-e71f-76fe6ee60fdd"
      },
      "execution_count": null,
      "outputs": [
        {
          "output_type": "execute_result",
          "data": {
            "text/plain": [
              "array([[ 56.,  70.],\n",
              "       [ 81., 101.],\n",
              "       [119., 133.],\n",
              "       [ 22.,  37.],\n",
              "       [103., 119.]], dtype=float32)"
            ]
          },
          "metadata": {},
          "execution_count": 4
        }
      ]
    },
    {
      "cell_type": "code",
      "source": [
        "# Convert the numpy arrays to pytorch tensors\n",
        "\n",
        "inputs = torch.from_numpy(inputs)\n",
        "targets = torch.from_numpy(targets)"
      ],
      "metadata": {
        "id": "uRzPtIip2S0a"
      },
      "execution_count": null,
      "outputs": []
    },
    {
      "cell_type": "code",
      "source": [
        "print(inputs)\n",
        "print(targets)"
      ],
      "metadata": {
        "colab": {
          "base_uri": "https://localhost:8080/"
        },
        "id": "OxEs0O2-2Voi",
        "outputId": "f02fa53c-95e0-4125-c934-a5da28cb5514"
      },
      "execution_count": null,
      "outputs": [
        {
          "output_type": "stream",
          "name": "stdout",
          "text": [
            "tensor([[ 73.,  67.,  43.],\n",
            "        [ 91.,  88.,  64.],\n",
            "        [ 87., 134.,  58.],\n",
            "        [102.,  43.,  37.],\n",
            "        [ 69.,  96.,  70.]])\n",
            "tensor([[ 56.,  70.],\n",
            "        [ 81., 101.],\n",
            "        [119., 133.],\n",
            "        [ 22.,  37.],\n",
            "        [103., 119.]])\n"
          ]
        }
      ]
    },
    {
      "cell_type": "code",
      "source": [
        "# Weights and biases\n",
        "torch.manual_seed(42)\n",
        "w = torch.randn(2,3, requires_grad=True)\n",
        "b = torch.randn(2, requires_grad=True)\n",
        "print(w)\n",
        "print(b)"
      ],
      "metadata": {
        "colab": {
          "base_uri": "https://localhost:8080/"
        },
        "id": "GrOTx-rO2Xz_",
        "outputId": "6998206e-a8b0-49e7-abf5-dd71af48afb8"
      },
      "execution_count": null,
      "outputs": [
        {
          "output_type": "stream",
          "name": "stdout",
          "text": [
            "tensor([[ 0.3367,  0.1288,  0.2345],\n",
            "        [ 0.2303, -1.1229, -0.1863]], requires_grad=True)\n",
            "tensor([ 2.2082, -0.6380], requires_grad=True)\n"
          ]
        }
      ]
    },
    {
      "cell_type": "code",
      "source": [
        "def model(x):\n",
        "    return x @ w.t() + b"
      ],
      "metadata": {
        "id": "syp_2rNL2dH1"
      },
      "execution_count": null,
      "outputs": []
    },
    {
      "cell_type": "code",
      "source": [
        "# Generate predictions\n",
        "preds = model(inputs)\n",
        "print(preds)"
      ],
      "metadata": {
        "colab": {
          "base_uri": "https://localhost:8080/"
        },
        "id": "Gpo0tNNE2lHA",
        "outputId": "d74993f6-bf36-4269-cbb1-2bf34aefba83"
      },
      "execution_count": null,
      "outputs": [
        {
          "output_type": "stream",
          "name": "stdout",
          "text": [
            "tensor([[  45.4987,  -67.0672],\n",
            "        [  59.1878,  -90.4141],\n",
            "        [  62.3595, -141.8688],\n",
            "        [  50.7645,  -32.3210],\n",
            "        [  54.2179, -105.5822]], grad_fn=<AddBackward0>)\n"
          ]
        }
      ]
    },
    {
      "cell_type": "code",
      "source": [
        "print(targets)"
      ],
      "metadata": {
        "colab": {
          "base_uri": "https://localhost:8080/"
        },
        "id": "rS9GBLHF2nvy",
        "outputId": "8fef2734-5b7e-46f4-9486-cf9a4043943e"
      },
      "execution_count": null,
      "outputs": [
        {
          "output_type": "stream",
          "name": "stdout",
          "text": [
            "tensor([[ 56.,  70.],\n",
            "        [ 81., 101.],\n",
            "        [119., 133.],\n",
            "        [ 22.,  37.],\n",
            "        [103., 119.]])\n"
          ]
        }
      ]
    },
    {
      "cell_type": "code",
      "source": [
        "# Improving the model with MSE loss function\n",
        "def mse(t1, t2):\n",
        "    diff = t1-t2\n",
        "    return torch.sum(diff*diff) / diff.numel()"
      ],
      "metadata": {
        "id": "pmrE1K4S2qAI"
      },
      "execution_count": null,
      "outputs": []
    },
    {
      "cell_type": "markdown",
      "source": [
        "\"\"\"\n",
        "Adjust weights and biases using gradient descent to reduce the gradient\n",
        " improve the model. Follow the following steps:\n",
        "1. Generate predictions\n",
        "2. Calculate loss\n",
        "3. Compute gradient wrt weights and biases\n",
        "3. Adjust the weights by subtracting a small uantity proportional to the gradient\n",
        "5. Reset the gradient to zero\n",
        "\"\"\"\n"
      ],
      "metadata": {
        "id": "WFXNuKCk24k9"
      }
    },
    {
      "cell_type": "code",
      "source": [
        "loss = mse(preds, targets)\n",
        "print(loss)"
      ],
      "metadata": {
        "colab": {
          "base_uri": "https://localhost:8080/"
        },
        "id": "8QyW6Uho2xpI",
        "outputId": "138e391f-283f-4d64-b361-fec8c0b67aa8"
      },
      "execution_count": null,
      "outputs": [
        {
          "output_type": "stream",
          "name": "stdout",
          "text": [
            "tensor(19322.3477, grad_fn=<DivBackward0>)\n"
          ]
        }
      ]
    },
    {
      "cell_type": "code",
      "source": [
        "loss.backward()"
      ],
      "metadata": {
        "id": "3Z3erMzd296Z"
      },
      "execution_count": null,
      "outputs": []
    },
    {
      "cell_type": "code",
      "source": [
        "print(w.grad)\n",
        "print(b.grad)"
      ],
      "metadata": {
        "colab": {
          "base_uri": "https://localhost:8080/"
        },
        "id": "1frEbuh52_9e",
        "outputId": "9cdf8918-8c3b-4da4-fb9a-50a083bc5dea"
      },
      "execution_count": null,
      "outputs": [
        {
          "output_type": "stream",
          "name": "stdout",
          "text": [
            "tensor([[ -1622.2405,  -2731.8169,  -1496.6278],\n",
            "        [-14781.0176, -17480.2129, -10474.4824]])\n",
            "tensor([ -21.7943, -179.4507])\n"
          ]
        }
      ]
    },
    {
      "cell_type": "code",
      "source": [
        "# Train the model for 100 epochs\n",
        "\n",
        "for i in range(100):\n",
        "    preds = model(inputs)\n",
        "    loss = mse(preds, targets)\n",
        "    loss.backward()\n",
        "    with torch.no_grad():\n",
        "        w-=w.grad * 1e-5\n",
        "        b-=b.grad * 1e-5\n",
        "        w.grad.zero_()\n",
        "        b.grad.zero_()"
      ],
      "metadata": {
        "id": "Kg8m0zmo3Cjt"
      },
      "execution_count": null,
      "outputs": []
    },
    {
      "cell_type": "code",
      "source": [
        "# Calculate the loss after training\n",
        "preds = model(inputs)\n",
        "loss = mse(preds, targets)\n",
        "print(loss)"
      ],
      "metadata": {
        "colab": {
          "base_uri": "https://localhost:8080/"
        },
        "id": "WHNQDtLj3K55",
        "outputId": "2999b92c-4c4d-4e6d-8587-afa5197f1174"
      },
      "execution_count": null,
      "outputs": [
        {
          "output_type": "stream",
          "name": "stdout",
          "text": [
            "tensor(376.1279, grad_fn=<DivBackward0>)\n"
          ]
        }
      ]
    },
    {
      "cell_type": "code",
      "source": [],
      "metadata": {
        "id": "ZGzPkX1O4I9y"
      },
      "execution_count": null,
      "outputs": []
    },
    {
      "cell_type": "markdown",
      "source": [
        "Linear regression using built in packages\n"
      ],
      "metadata": {
        "id": "aVed7Hg55pUu"
      }
    },
    {
      "cell_type": "code",
      "source": [
        "import torch.nn\n",
        "import numpy as np"
      ],
      "metadata": {
        "id": "E7qvcEmK8-Ww"
      },
      "execution_count": null,
      "outputs": []
    },
    {
      "cell_type": "code",
      "source": [
        "# Take inputs (temp, rainfall, humidity)\n",
        "\n",
        "inputs = np.array([[73, 67, 43], [91, 88, 64], [87, 134, 58],\n",
        "                   [102, 43, 37], [69, 96, 70], [74, 66, 43],\n",
        "                   [91, 87, 65], [88, 134, 59], [101, 44, 37],\n",
        "                   [68, 96, 71], [73, 66, 44], [92, 87, 64], \n",
        "                   [87, 135, 57], [103, 43, 36], [68, 97, 70]], dtype='float32')\n",
        "\n"
      ],
      "metadata": {
        "id": "zC1CmwRy5tYb"
      },
      "execution_count": null,
      "outputs": []
    },
    {
      "cell_type": "code",
      "source": [
        "inputs"
      ],
      "metadata": {
        "colab": {
          "base_uri": "https://localhost:8080/"
        },
        "id": "uH7u8we--ceZ",
        "outputId": "9ea11b00-9d4c-4ad4-8848-1b61a5f3e736"
      },
      "execution_count": null,
      "outputs": [
        {
          "output_type": "execute_result",
          "data": {
            "text/plain": [
              "array([[ 73.,  67.,  43.],\n",
              "       [ 91.,  88.,  64.],\n",
              "       [ 87., 134.,  58.],\n",
              "       [102.,  43.,  37.],\n",
              "       [ 69.,  96.,  70.],\n",
              "       [ 74.,  66.,  43.],\n",
              "       [ 91.,  87.,  65.],\n",
              "       [ 88., 134.,  59.],\n",
              "       [101.,  44.,  37.],\n",
              "       [ 68.,  96.,  71.],\n",
              "       [ 73.,  66.,  44.],\n",
              "       [ 92.,  87.,  64.],\n",
              "       [ 87., 135.,  57.],\n",
              "       [103.,  43.,  36.],\n",
              "       [ 68.,  97.,  70.]], dtype=float32)"
            ]
          },
          "metadata": {},
          "execution_count": 60
        }
      ]
    },
    {
      "cell_type": "code",
      "source": [
        "# Targets as (yeild of apples, yeild of oranges)\n",
        "targets = np.array([[56, 70], [81, 101], [119, 133],\n",
        "                    [22, 37], [103, 119], [57, 69],\n",
        "                    [80, 102], [118, 132], [21, 38],\n",
        "                    [104, 118], [57, 69], [82, 100],\n",
        "                    [118, 134], [20, 38], [102, 120]], dtype = 'float32')"
      ],
      "metadata": {
        "id": "b71xwHaG-nOz"
      },
      "execution_count": null,
      "outputs": []
    },
    {
      "cell_type": "code",
      "source": [
        "inputs = torch.from_numpy(inputs)\n",
        "targets = torch.from_numpy(targets)"
      ],
      "metadata": {
        "id": "H5TScJqq_ZN3"
      },
      "execution_count": null,
      "outputs": []
    },
    {
      "cell_type": "code",
      "source": [],
      "metadata": {
        "id": "X4AGiT0N_mQG"
      },
      "execution_count": null,
      "outputs": []
    },
    {
      "cell_type": "markdown",
      "source": [
        "Dataset and Dataloader\n",
        "We will create a TensorDataset which allows access to rows from inputs and targets as tuples and provised stadard APIs from working with many different types of datasets in pytorch "
      ],
      "metadata": {
        "id": "CWDUJ-z9_wcH"
      }
    },
    {
      "cell_type": "code",
      "source": [
        "from torch.utils.data import TensorDataset"
      ],
      "metadata": {
        "id": "sGe-KqZL_yVR"
      },
      "execution_count": null,
      "outputs": []
    },
    {
      "cell_type": "code",
      "source": [
        "# Define dataset\n",
        "\n",
        "train_ds = TensorDataset(inputs, targets)\n",
        "train_ds[0:3]"
      ],
      "metadata": {
        "colab": {
          "base_uri": "https://localhost:8080/"
        },
        "id": "uT7X4ATSAedb",
        "outputId": "b1360b02-4e94-4e34-8450-13a3422e0540"
      },
      "execution_count": null,
      "outputs": [
        {
          "output_type": "execute_result",
          "data": {
            "text/plain": [
              "(tensor([[ 73.,  67.,  43.],\n",
              "         [ 91.,  88.,  64.],\n",
              "         [ 87., 134.,  58.]]), tensor([[ 56.,  70.],\n",
              "         [ 81., 101.],\n",
              "         [119., 133.]]))"
            ]
          },
          "metadata": {},
          "execution_count": 64
        }
      ]
    },
    {
      "cell_type": "code",
      "source": [
        "# Define dataloader\n",
        "from torch.utils.data import DataLoader\n",
        "\n",
        "batch_size = 5\n",
        "train_dl = DataLoader(train_ds, batch_size, shuffle=True)"
      ],
      "metadata": {
        "id": "cQ3P_pEHA0Sl"
      },
      "execution_count": null,
      "outputs": []
    },
    {
      "cell_type": "code",
      "source": [
        "# We can use a DataLoader in a for loop\n",
        "\n",
        "for xb, yb in train_dl:\n",
        "  print(xb)\n",
        "  print(yb)\n",
        "  break"
      ],
      "metadata": {
        "colab": {
          "base_uri": "https://localhost:8080/"
        },
        "id": "DSp8XxCcBvaB",
        "outputId": "380c5583-d5f4-494e-f1f2-de91b4ce930d"
      },
      "execution_count": null,
      "outputs": [
        {
          "output_type": "stream",
          "name": "stdout",
          "text": [
            "tensor([[ 91.,  88.,  64.],\n",
            "        [ 87., 134.,  58.],\n",
            "        [ 91.,  87.,  65.],\n",
            "        [ 73.,  67.,  43.],\n",
            "        [ 88., 134.,  59.]])\n",
            "tensor([[ 81., 101.],\n",
            "        [119., 133.],\n",
            "        [ 80., 102.],\n",
            "        [ 56.,  70.],\n",
            "        [118., 132.]])\n"
          ]
        }
      ]
    },
    {
      "cell_type": "code",
      "source": [
        "import torch.nn"
      ],
      "metadata": {
        "id": "WJu0TUP7EL-P"
      },
      "execution_count": null,
      "outputs": []
    },
    {
      "cell_type": "code",
      "source": [
        "# Model Building\n",
        "\n",
        "model = torch.nn.Linear(3,2) \n",
        "# 3 inputs and 2 outputs\n",
        "print(model.weight)\n",
        "print(model.bias)"
      ],
      "metadata": {
        "colab": {
          "base_uri": "https://localhost:8080/"
        },
        "id": "5HC-ibbhCPqV",
        "outputId": "a60809fc-c97c-4da1-f226-1ebe2c13c81c"
      },
      "execution_count": null,
      "outputs": [
        {
          "output_type": "stream",
          "name": "stdout",
          "text": [
            "Parameter containing:\n",
            "tensor([[ 0.5278,  0.2960, -0.0714],\n",
            "        [-0.5090, -0.4731, -0.4345]], requires_grad=True)\n",
            "Parameter containing:\n",
            "tensor([-0.1734, -0.2811], requires_grad=True)\n"
          ]
        }
      ]
    },
    {
      "cell_type": "code",
      "source": [
        "# Parameters\n",
        "list(model.parameters())"
      ],
      "metadata": {
        "colab": {
          "base_uri": "https://localhost:8080/"
        },
        "id": "ZyOjzIdCD0XN",
        "outputId": "26f4f06d-9fc3-42be-a365-15823a5d648e"
      },
      "execution_count": null,
      "outputs": [
        {
          "output_type": "execute_result",
          "data": {
            "text/plain": [
              "[Parameter containing:\n",
              " tensor([[ 0.5278,  0.2960, -0.0714],\n",
              "         [-0.5090, -0.4731, -0.4345]], requires_grad=True),\n",
              " Parameter containing:\n",
              " tensor([-0.1734, -0.2811], requires_grad=True)]"
            ]
          },
          "metadata": {},
          "execution_count": 69
        }
      ]
    },
    {
      "cell_type": "code",
      "source": [
        "# Generate predictions\n",
        "\n",
        "preds = model(inputs)"
      ],
      "metadata": {
        "id": "uLWLaiNGL2Zq"
      },
      "execution_count": null,
      "outputs": []
    },
    {
      "cell_type": "code",
      "source": [
        "preds"
      ],
      "metadata": {
        "colab": {
          "base_uri": "https://localhost:8080/"
        },
        "id": "aX4vq4S8MTL-",
        "outputId": "6301593e-b645-4bdc-fa6f-c6be2064088a"
      },
      "execution_count": null,
      "outputs": [
        {
          "output_type": "execute_result",
          "data": {
            "text/plain": [
              "tensor([[  55.1125,  -87.8185],\n",
              "        [  69.3277, -116.0398],\n",
              "        [  81.2604, -133.1574],\n",
              "        [  63.7427,  -88.6195],\n",
              "        [  59.6561, -111.2330],\n",
              "        [  55.3443,  -87.8544],\n",
              "        [  68.9603, -116.0013],\n",
              "        [  81.7168, -134.1009],\n",
              "        [  63.5109,  -88.5835],\n",
              "        [  59.0569, -111.1585],\n",
              "        [  54.7451,  -87.7799],\n",
              "        [  69.5595, -116.0758],\n",
              "        [  81.6278, -133.1959],\n",
              "        [  64.3419,  -88.6940],\n",
              "        [  59.4244, -111.1970]], grad_fn=<AddmmBackward0>)"
            ]
          },
          "metadata": {},
          "execution_count": 71
        }
      ]
    },
    {
      "cell_type": "code",
      "source": [
        "# Loss Function\n",
        "import torch.nn.functional as F"
      ],
      "metadata": {
        "id": "ke67HDb_MUM1"
      },
      "execution_count": null,
      "outputs": []
    },
    {
      "cell_type": "code",
      "source": [
        "loss_fn = F.mse_loss"
      ],
      "metadata": {
        "id": "BwOKG7uWMklc"
      },
      "execution_count": null,
      "outputs": []
    },
    {
      "cell_type": "code",
      "source": [
        "loss = loss_fn(preds, targets)\n",
        "print(loss)"
      ],
      "metadata": {
        "colab": {
          "base_uri": "https://localhost:8080/"
        },
        "id": "ZFhzDk_dMqbX",
        "outputId": "efc0e917-36a4-40d3-d8f6-5166f43cf384"
      },
      "execution_count": null,
      "outputs": [
        {
          "output_type": "stream",
          "name": "stdout",
          "text": [
            "tensor(21699.7598, grad_fn=<MseLossBackward0>)\n"
          ]
        }
      ]
    },
    {
      "cell_type": "code",
      "source": [
        "# Define Optimizer\n",
        "\n",
        "opt = torch.optim.SGD(model.parameters(), lr = 1e-5)\n"
      ],
      "metadata": {
        "id": "-YDngmj-Mx9r"
      },
      "execution_count": null,
      "outputs": []
    },
    {
      "cell_type": "code",
      "source": [
        "# Train the model\n"
      ],
      "metadata": {
        "id": "WsT3RzIWNQWw"
      },
      "execution_count": null,
      "outputs": []
    },
    {
      "cell_type": "code",
      "source": [],
      "metadata": {
        "id": "RYi1-lwcNVCe"
      },
      "execution_count": null,
      "outputs": []
    },
    {
      "cell_type": "markdown",
      "source": [
        "1. Generate Prediction\n",
        "2. Calculate the loss\n",
        "3. Compute gradient wrt weights and biases\n",
        "4. Adjust the weights by subtracting a smalll quantity proportional to the gradient\n",
        "5. Reset the gradeint to zero"
      ],
      "metadata": {
        "id": "9So2__PkNV_7"
      }
    },
    {
      "cell_type": "code",
      "source": [
        "# Utility funtion to train the model\n",
        "def fit(num_epochs, model, loss_fn, opt, train_dl):\n",
        "\n",
        "  # Repeat the given no of epochs\n",
        "  for epoch in range(num_epochs):\n",
        "    \n",
        "    # Train with batches of data\n",
        "    for xb, yb in train_dl:\n",
        "\n",
        "      # 1. Generate prediction\n",
        "      preds = model(xb)\n",
        "\n",
        "      # 2. Calculate loss\n",
        "      loss = loss_fn(preds, yb)\n",
        "\n",
        "      # 3. Compute gradient\n",
        "      loss.backward()\n",
        "\n",
        "      # 4. Update parameters using gradients\n",
        "      opt.step()\n",
        "\n",
        "      # 5. Reset the gradient to zero\n",
        "      opt.zero_grad()\n",
        "\n",
        "    # Print the progress\n",
        "    if (epoch+1) % 10 ==0:\n",
        "      print('Epoch[{}/{}], Loss: {:.4f}'.format(epoch+1, num_epochs, loss.item()))\n"
      ],
      "metadata": {
        "id": "KwfJmJABNnDs"
      },
      "execution_count": null,
      "outputs": []
    },
    {
      "cell_type": "code",
      "source": [
        "fit(100, model, loss_fn, opt, train_dl)"
      ],
      "metadata": {
        "colab": {
          "base_uri": "https://localhost:8080/"
        },
        "id": "d4WE4XonPw9Z",
        "outputId": "01f12f67-dec4-487d-d1e0-e67a2b69c253"
      },
      "execution_count": null,
      "outputs": [
        {
          "output_type": "stream",
          "name": "stdout",
          "text": [
            "Epoch[10/100], Loss: 249.3945\n",
            "Epoch[20/100], Loss: 307.3629\n",
            "Epoch[30/100], Loss: 396.4355\n",
            "Epoch[40/100], Loss: 168.9442\n",
            "Epoch[50/100], Loss: 87.2535\n",
            "Epoch[60/100], Loss: 93.9222\n",
            "Epoch[70/100], Loss: 72.5715\n",
            "Epoch[80/100], Loss: 72.8188\n",
            "Epoch[90/100], Loss: 49.6780\n",
            "Epoch[100/100], Loss: 43.6305\n"
          ]
        }
      ]
    },
    {
      "cell_type": "code",
      "source": [
        "targets"
      ],
      "metadata": {
        "colab": {
          "base_uri": "https://localhost:8080/"
        },
        "id": "HEK0gqp9QL4c",
        "outputId": "efc77947-3fc5-4dfe-e8e3-52b853428af1"
      },
      "execution_count": null,
      "outputs": [
        {
          "output_type": "execute_result",
          "data": {
            "text/plain": [
              "tensor([[ 56.,  70.],\n",
              "        [ 81., 101.],\n",
              "        [110., 132.],\n",
              "        [ 22.,  37.],\n",
              "        [130., 119.],\n",
              "        [ 57.,  69.],\n",
              "        [ 80., 102.],\n",
              "        [118., 132.],\n",
              "        [ 21.,  38.],\n",
              "        [104., 118.],\n",
              "        [ 57.,  69.],\n",
              "        [ 82., 100.],\n",
              "        [118., 134.],\n",
              "        [ 20.,  38.],\n",
              "        [102., 120.]])"
            ]
          },
          "metadata": {},
          "execution_count": 37
        }
      ]
    },
    {
      "cell_type": "code",
      "source": [
        "preds = model(inputs)"
      ],
      "metadata": {
        "id": "6zmL8ucdRMe3"
      },
      "execution_count": null,
      "outputs": []
    },
    {
      "cell_type": "code",
      "source": [
        "preds"
      ],
      "metadata": {
        "colab": {
          "base_uri": "https://localhost:8080/"
        },
        "id": "0VvGtMr1UEDa",
        "outputId": "df9bd50c-a5dc-4d34-8002-09dbe3466166"
      },
      "execution_count": null,
      "outputs": [
        {
          "output_type": "execute_result",
          "data": {
            "text/plain": [
              "tensor([[ 58.6152,  71.6113],\n",
              "        [ 79.5044,  97.7030],\n",
              "        [121.4414, 137.3112],\n",
              "        [ 30.1572,  44.7009],\n",
              "        [ 91.9650, 109.4590],\n",
              "        [ 57.5191,  70.6126],\n",
              "        [ 78.7957,  97.2099],\n",
              "        [121.4866, 137.6335],\n",
              "        [ 31.2532,  45.6996],\n",
              "        [ 92.3523, 109.9645],\n",
              "        [ 57.9065,  71.1182],\n",
              "        [ 78.4084,  96.7044],\n",
              "        [122.1501, 137.8043],\n",
              "        [ 29.7698,  44.1953],\n",
              "        [ 93.0610, 110.4577]], grad_fn=<AddmmBackward0>)"
            ]
          },
          "metadata": {},
          "execution_count": 81
        }
      ]
    },
    {
      "cell_type": "code",
      "source": [
        "# Testing on a data point\n",
        "\n",
        "model(torch.tensor([[75, 63, 44.]]))"
      ],
      "metadata": {
        "colab": {
          "base_uri": "https://localhost:8080/"
        },
        "id": "L_JcUhIiUTZV",
        "outputId": "06d81a2b-1d1a-4215-8162-739e0d089900"
      },
      "execution_count": null,
      "outputs": [
        {
          "output_type": "execute_result",
          "data": {
            "text/plain": [
              "tensor([[54.7894, 68.2137]], grad_fn=<AddmmBackward0>)"
            ]
          },
          "metadata": {},
          "execution_count": 82
        }
      ]
    },
    {
      "cell_type": "code",
      "source": [
        "# The predicted yeild of apples is 54.7 tons per hectare and that of orangaes is \n",
        "# 68 tons per hectare."
      ],
      "metadata": {
        "id": "6g9O3iQ8VZnc"
      },
      "execution_count": null,
      "outputs": []
    },
    {
      "cell_type": "code",
      "source": [],
      "metadata": {
        "id": "y9HLCH9tVpYb"
      },
      "execution_count": null,
      "outputs": []
    }
  ]
}